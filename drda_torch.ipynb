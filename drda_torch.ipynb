{
 "cells": [
  {
   "cell_type": "code",
   "execution_count": 1,
   "id": "5e0207aa",
   "metadata": {},
   "outputs": [],
   "source": [
    "import pandas as pd"
   ]
  },
  {
   "cell_type": "code",
   "execution_count": 2,
   "id": "fc5adf0c",
   "metadata": {},
   "outputs": [
    {
     "name": "stdout",
     "output_type": "stream",
     "text": [
      "s01.mat s02.mat s03.mat s04.mat s05.mat s06.mat s07.mat s08.mat s09.mat s10.mat s11.mat s12.mat s13.mat s14.mat s15.mat s16.mat s17.mat s18.mat s19.mat s20.mat s21.mat s22.mat s23.mat s24.mat s25.mat s26.mat s27.mat s28.mat s29.mat s30.mat s31.mat s32.mat "
     ]
    }
   ],
   "source": [
    "import os\n",
    "from scipy import io\n",
    "import numpy as np\n",
    "path = r'C:\\Users\\bumsung\\Downloads\\DEAP\\DEAP\\data_preprocessed_matlab/' # 경로는 저장 파일 경로\n",
    "file_list = os.listdir(path)\n",
    "\n",
    "for i in file_list:    # 확인\n",
    "    print(i, end=' ')"
   ]
  },
  {
   "cell_type": "code",
   "execution_count": 11,
   "id": "40227f83",
   "metadata": {},
   "outputs": [],
   "source": [
    "mat_file = io.loadmat(path+'s01.mat')"
   ]
  },
  {
   "cell_type": "code",
   "execution_count": 4,
   "id": "a30a4132",
   "metadata": {},
   "outputs": [
    {
     "data": {
      "text/plain": [
       "(40, 40, 8064)"
      ]
     },
     "execution_count": 4,
     "metadata": {},
     "output_type": "execute_result"
    }
   ],
   "source": [
    "mat_file['data'].shape"
   ]
  },
  {
   "cell_type": "code",
   "execution_count": 5,
   "id": "6443c95d",
   "metadata": {},
   "outputs": [
    {
     "data": {
      "text/plain": [
       "(40, 4)"
      ]
     },
     "execution_count": 5,
     "metadata": {},
     "output_type": "execute_result"
    }
   ],
   "source": [
    "mat_file['labels'].shape"
   ]
  },
  {
   "cell_type": "code",
   "execution_count": 6,
   "id": "2a5809b0",
   "metadata": {},
   "outputs": [
    {
     "data": {
      "text/plain": [
       "dict_keys(['__header__', '__version__', '__globals__', 'labels', 'data'])"
      ]
     },
     "execution_count": 6,
     "metadata": {},
     "output_type": "execute_result"
    }
   ],
   "source": [
    "mat_file.keys()"
   ]
  },
  {
   "cell_type": "code",
   "execution_count": 3,
   "id": "c4fcaceb",
   "metadata": {},
   "outputs": [
    {
     "name": "stdout",
     "output_type": "stream",
     "text": [
      "1 2 3 4 5 6 7 8 9 10 11 12 13 14 15 16 17 18 19 20 21 22 23 24 25 26 27 28 29 30 31 32 finish\n"
     ]
    }
   ],
   "source": [
    "k=0\n",
    "\n",
    "for i in file_list: \n",
    "    mat_file = io.loadmat(path+i)\n",
    "    data = mat_file['data']\n",
    "    labels = np.array(mat_file['labels'])\n",
    "    val = labels.T[0].round().astype(np.int8)\n",
    "    aro = labels.T[1].round().astype(np.int8)\n",
    "    \n",
    "    k+=1;\n",
    "    print(k, end=' ')\n",
    "    \n",
    "    if(i==\"s01.mat\"): \n",
    "        Data = data\n",
    "        VAL = val\n",
    "        ARO = aro\n",
    "        continue\n",
    "        \n",
    "    Data = np.concatenate((Data ,data),axis=0)   # 밑으로 쌓아서 하나로 만듬\n",
    "    VAL = np.concatenate((VAL ,val),axis=0)\n",
    "    ARO = np.concatenate((ARO ,aro),axis=0)\n",
    "\n",
    "print('finish')"
   ]
  },
  {
   "cell_type": "code",
   "execution_count": 4,
   "id": "5c087eb3",
   "metadata": {},
   "outputs": [
    {
     "name": "stdout",
     "output_type": "stream",
     "text": [
      "                 0\n",
      "count  1280.000000\n",
      "mean      5.235938\n",
      "std       2.135508\n",
      "min       1.000000\n",
      "25%       4.000000\n",
      "50%       5.000000\n",
      "75%       7.000000\n",
      "max       9.000000\n"
     ]
    },
    {
     "name": "stderr",
     "output_type": "stream",
     "text": [
      "C:\\Users\\bumsung\\anaconda3\\lib\\site-packages\\seaborn\\_decorators.py:36: FutureWarning: Pass the following variable as a keyword arg: x. From version 0.12, the only valid positional argument will be `data`, and passing other arguments without an explicit keyword will result in an error or misinterpretation.\n",
      "  warnings.warn(\n"
     ]
    },
    {
     "data": {
      "text/plain": [
       "<AxesSubplot:ylabel='count'>"
      ]
     },
     "execution_count": 4,
     "metadata": {},
     "output_type": "execute_result"
    },
    {
     "data": {
      "image/png": "[encoded data removed]",
      "text/plain": [
       "<Figure size 640x480 with 1 Axes>"
      ]
     },
     "metadata": {},
     "output_type": "display_data"
    }
   ],
   "source": [
    "import pandas as pd\n",
    "import seaborn as sns\n",
    "import matplotlib.pyplot as plt\n",
    "print(pd.DataFrame(VAL).describe())\n",
    "sns.countplot(VAL)"
   ]
  },
  {
   "cell_type": "code",
   "execution_count": 28,
   "id": "1ceb140d",
   "metadata": {},
   "outputs": [
    {
     "name": "stdout",
     "output_type": "stream",
     "text": [
      "[8 8 9 ... 3 4 7]\n"
     ]
    }
   ],
   "source": [
    "data.shape\n",
    "print(VAL)"
   ]
  },
  {
   "cell_type": "code",
   "execution_count": 14,
   "id": "1150fafc",
   "metadata": {},
   "outputs": [],
   "source": [
    "val.shape\n",
    "from tensorflow.keras.utils import to_categorical\n",
    "\n",
    "VAL_one = to_categorical(VAL-1, num_classes=9)"
   ]
  },
  {
   "cell_type": "code",
   "execution_count": 5,
   "id": "9c09e9f9",
   "metadata": {},
   "outputs": [],
   "source": [
    "eeg_data = []\n",
    "peripheral_data = []\n",
    "\n",
    "for i in range(len(Data)):\n",
    "    for j in range (40): \n",
    "        if(j < 32):\n",
    "            eeg_data.append(Data[i][j])\n",
    "        else:\n",
    "            peripheral_data.append(Data[i][j])\n"
   ]
  },
  {
   "cell_type": "code",
   "execution_count": 13,
   "id": "d90871d6",
   "metadata": {},
   "outputs": [
    {
     "name": "stdout",
     "output_type": "stream",
     "text": [
      "(1280, 1, 32, 8064)\n"
     ]
    }
   ],
   "source": [
    "eeg_data = np.reshape(eeg_data, (len(Data),1,32, 8064))\n",
    "print(eeg_data.shape)\n",
    "eeg_data=eeg_data.astype('float32')\n",
    "eeg_data32 = torch.from_numpy(eeg_data)"
   ]
  },
  {
   "cell_type": "code",
   "execution_count": 13,
   "id": "635631e6",
   "metadata": {},
   "outputs": [
    {
     "data": {
      "text/plain": [
       "(1280,)"
      ]
     },
     "execution_count": 13,
     "metadata": {},
     "output_type": "execute_result"
    }
   ],
   "source": [
    "VAL.shape"
   ]
  },
  {
   "cell_type": "markdown",
   "id": "92f2df3b",
   "metadata": {},
   "source": [
    "data\t40 x 40 x 8064\tvideo/trial x channel x data\n",
    "\n",
    "labels\t40 x 4\tvideo/trial x label (valence, arousal, dominance, liking)\n"
   ]
  },
  {
   "cell_type": "code",
   "execution_count": 14,
   "id": "7518dbf7",
   "metadata": {},
   "outputs": [
    {
     "data": {
      "text/plain": [
       "(40,)"
      ]
     },
     "execution_count": 14,
     "metadata": {},
     "output_type": "execute_result"
    }
   ],
   "source": [
    "val.shape"
   ]
  },
  {
   "cell_type": "markdown",
   "id": "21e3e2f4",
   "metadata": {},
   "source": [
    "### data split"
   ]
  },
  {
   "cell_type": "code",
   "execution_count": 27,
   "id": "f3ad0012",
   "metadata": {},
   "outputs": [],
   "source": [
    "from sklearn.model_selection import train_test_split\n",
    "x_train, x_test, y_train, y_test = train_test_split(eeg_data32, VAL, test_size=0.5)"
   ]
  },
  {
   "cell_type": "code",
   "execution_count": 28,
   "id": "d3e088c0",
   "metadata": {},
   "outputs": [
    {
     "name": "stdout",
     "output_type": "stream",
     "text": [
      "torch.Size([640, 1, 32, 8064])\n",
      "torch.Size([640, 1, 32, 8064])\n"
     ]
    }
   ],
   "source": [
    "print(x_train.shape)\n",
    "print(x_test.shape)"
   ]
  },
  {
   "cell_type": "code",
   "execution_count": 5,
   "id": "a3d55fce",
   "metadata": {},
   "outputs": [
    {
     "name": "stdout",
     "output_type": "stream",
     "text": [
      "Requirement already satisfied: torch in c:\\users\\bumsung\\anaconda3\\lib\\site-packages (1.13.1)\n",
      "Requirement already satisfied: typing-extensions in c:\\users\\bumsung\\anaconda3\\lib\\site-packages (from torch) (4.3.0)\n",
      "Note: you may need to restart the kernel to use updated packages.\n"
     ]
    }
   ],
   "source": [
    "pip install torch"
   ]
  },
  {
   "cell_type": "code",
   "execution_count": 22,
   "id": "fe52c2ef",
   "metadata": {},
   "outputs": [],
   "source": [
    "import torch.nn as nn\n",
    "import torch\n",
    "import torch.optim as optim"
   ]
  },
  {
   "cell_type": "code",
   "execution_count": 11,
   "id": "3a72b8b8",
   "metadata": {},
   "outputs": [],
   "source": [
    "class Discriminator(nn.Module):\n",
    "    def __init__(self, input_size):\n",
    "        super().__init__()\n",
    "        self.model = nn.Sequential(\n",
    "            nn.Linear(input_size, 64),\n",
    "            nn.ReLU(),\n",
    "            nn.Linear(64, 32),\n",
    "            nn.ReLU(),\n",
    "            nn.Linear(32, 16),\n",
    "            nn.ReLU(),\n",
    "            nn.Linear(16,1)\n",
    "        )\n",
    "    \n",
    "    def forward(self, x):\n",
    "        return self.model(x)"
   ]
  },
  {
   "cell_type": "code",
   "execution_count": 12,
   "id": "7ece7dd2",
   "metadata": {},
   "outputs": [],
   "source": [
    "class FC(nn.Module):\n",
    "    def __init__(self, channel_size, flatten_size=15960, cls_num=9):\n",
    "        super().__init__()\n",
    "        self.conv = nn.Sequential(\n",
    "            nn.Conv2d(1,30,kernel_size=(1,25)),\n",
    "            nn.Conv2d(30,30, kernel_size=(channel_size, 1)),\n",
    "            nn.AvgPool2d(kernel_size=(1, 75), stride=15),\n",
    "            nn.Flatten()\n",
    "        )\n",
    "        \n",
    "        self.fc = nn.Sequential(\n",
    "            nn.Linear(flatten_size, 64),\n",
    "            nn.ReLU(),\n",
    "            nn.Linear(64, 16),\n",
    "            nn.ReLU(),\n",
    "            nn.Linear(16, cls_num)\n",
    "        )\n",
    "        \n",
    "        \n",
    "    def forward(self, x):\n",
    "        \n",
    "        feat = self.conv(x)\n",
    "        pred = self.fc(feat)\n",
    "        \n",
    "        return feat, pred\n",
    "        \n",
    "\n",
    "fc = FC(32)        "
   ]
  },
  {
   "cell_type": "code",
   "execution_count": 19,
   "id": "5a46bf1c",
   "metadata": {},
   "outputs": [
    {
     "data": {
      "text/plain": [
       "(1280, 1, 32, 8064)"
      ]
     },
     "execution_count": 19,
     "metadata": {},
     "output_type": "execute_result"
    }
   ],
   "source": [
    "eeg_data.shape"
   ]
  },
  {
   "cell_type": "code",
   "execution_count": 20,
   "id": "8e45fb0d",
   "metadata": {},
   "outputs": [
    {
     "data": {
      "text/plain": [
       "dtype('float32')"
      ]
     },
     "execution_count": 20,
     "metadata": {},
     "output_type": "execute_result"
    }
   ],
   "source": [
    "x_train.dtype"
   ]
  },
  {
   "cell_type": "markdown",
   "id": "bfce763a",
   "metadata": {},
   "source": [
    "Default float in Numpy is float64, you must convert the Numpy tensor to np.float32 before converting it to Pytorch."
   ]
  },
  {
   "cell_type": "markdown",
   "id": "0b9594ac",
   "metadata": {},
   "source": [
    "https://growthvalue.tistory.com/229 \n",
    "- ram 크기 문제"
   ]
  },
  {
   "cell_type": "code",
   "execution_count": 18,
   "id": "b370ed8c",
   "metadata": {},
   "outputs": [
    {
     "name": "stdout",
     "output_type": "stream",
     "text": [
      "torch.Size([10, 15960])\n",
      "torch.Size([10, 9])\n"
     ]
    }
   ],
   "source": [
    "feat, pred = fc.forward(eeg_data32[:10])\n",
    "print(feat.shape)\n",
    "print(pred.shape)"
   ]
  },
  {
   "cell_type": "code",
   "execution_count": 21,
   "id": "222ed104",
   "metadata": {},
   "outputs": [
    {
     "name": "stdout",
     "output_type": "stream",
     "text": [
      "tensor([[0.1434],\n",
      "        [0.1446],\n",
      "        [0.1465],\n",
      "        [0.1402],\n",
      "        [0.1437],\n",
      "        [0.1480],\n",
      "        [0.1477],\n",
      "        [0.1416],\n",
      "        [0.1551],\n",
      "        [0.1463]], grad_fn=<AddmmBackward0>)\n"
     ]
    }
   ],
   "source": [
    "dis = Discriminator(feat.shape[1])\n",
    "print(dis.forward(feat))"
   ]
  },
  {
   "cell_type": "markdown",
   "id": "29c51073",
   "metadata": {},
   "source": [
    "At each iteration, we first update the parameters of the domain discriminator, fix the feature extractor and classifier, and then fix the domain discriminator and update the parameters of both the feature extractor and classifier.\n",
    "- 검열기 역전파 / 나머지 고정\n",
    "- 검열기 고정 / 나머지 역전파"
   ]
  },
  {
   "attachments": {
    "image.png": {
     "image/png": "[encoded data removed]"
    }
   },
   "cell_type": "markdown",
   "id": "f2b7b534",
   "metadata": {},
   "source": [
    "![image.png](attachment:image.png)"
   ]
  },
  {
   "cell_type": "code",
   "execution_count": 31,
   "id": "bfe5dda8",
   "metadata": {},
   "outputs": [
    {
     "name": "stdout",
     "output_type": "stream",
     "text": [
      "torch.Size([10, 15960]) torch.Size([10, 9])\n"
     ]
    }
   ],
   "source": [
    "feat_t, pred_t = fc.forward(x_train[:10])\n",
    "feat_s, pred_s = fc.forward(x_test[:10])\n",
    "print(feat.shape, pred.shape)"
   ]
  },
  {
   "cell_type": "code",
   "execution_count": 32,
   "id": "f9aba0c7",
   "metadata": {},
   "outputs": [],
   "source": [
    "#optim\n",
    "optimizer_dis = optim.SGD(dis.parameters(), lr=0.001, momentum=0.9)\n",
    "optimizer_cls = optim.SGD(fc.parameters(), lr=0.001, momentum=0.9)"
   ]
  },
  {
   "cell_type": "code",
   "execution_count": 33,
   "id": "6b6c009a",
   "metadata": {},
   "outputs": [],
   "source": [
    "#loss_cls\n",
    "def loss_dis(pred_t, pred_s):\n",
    "    return torch.mean(torch.square(pred_t-1)+tf.square(pred_s)) / 2 "
   ]
  },
  {
   "cell_type": "code",
   "execution_count": 38,
   "id": "62e08ecd",
   "metadata": {},
   "outputs": [],
   "source": [
    "optimizer_dis.zero_grad()\n",
    "\n",
    "dis = Discriminator(15960)\n",
    "DT = dis(feat_t)\n",
    "DS = dis(feat_s)"
   ]
  },
  {
   "cell_type": "code",
   "execution_count": 55,
   "id": "d3266934",
   "metadata": {},
   "outputs": [],
   "source": [
    "g_loss_adv = torch.mean(torch.square(DS-1))/2\n",
    "g_loss_ce_t = torch.log(torch.sum(torch.exp(pred_t)))-pred_t[y_train[:10]-1]\n",
    "g_loss_ce_s = torch.log(torch.sum(torch.exp(pred_t)))-pred_t[y_train[:10]-1]"
   ]
  },
  {
   "cell_type": "code",
   "execution_count": 58,
   "id": "2c47cf9b",
   "metadata": {},
   "outputs": [
    {
     "data": {
      "text/plain": [
       "torch.Size([10, 9])"
      ]
     },
     "execution_count": 58,
     "metadata": {},
     "output_type": "execute_result"
    }
   ],
   "source": [
    "g_loss_ce_s.shape"
   ]
  },
  {
   "cell_type": "code",
   "execution_count": 63,
   "id": "c1c009e0",
   "metadata": {},
   "outputs": [
    {
     "data": {
      "text/plain": [
       "torch.Size([10, 1])"
      ]
     },
     "execution_count": 63,
     "metadata": {},
     "output_type": "execute_result"
    }
   ],
   "source": [
    "DT.shape"
   ]
  },
  {
   "cell_type": "code",
   "execution_count": 65,
   "id": "b2a8a736",
   "metadata": {},
   "outputs": [
    {
     "data": {
      "text/plain": [
       "torch.Size([])"
      ]
     },
     "execution_count": 65,
     "metadata": {},
     "output_type": "execute_result"
    }
   ],
   "source": [
    "g_loss_adv.shape"
   ]
  }
 ],
 "metadata": {
  "kernelspec": {
   "display_name": "Python 3 (ipykernel)",
   "language": "python",
   "name": "python3"
  },
  "language_info": {
   "codemirror_mode": {
    "name": "ipython",
    "version": 3
   },
   "file_extension": ".py",
   "mimetype": "text/x-python",
   "name": "python",
   "nbconvert_exporter": "python",
   "pygments_lexer": "ipython3",
   "version": "3.9.13"
  }
 },
 "nbformat": 4,
 "nbformat_minor": 5
}
