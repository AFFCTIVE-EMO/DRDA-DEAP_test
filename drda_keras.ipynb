{
 "cells": [
  {
   "cell_type": "code",
   "execution_count": 2,
   "id": "5e0207aa",
   "metadata": {},
   "outputs": [],
   "source": [
    "import pandas as pd"
   ]
  },
  {
   "cell_type": "code",
   "execution_count": 3,
   "id": "fc5adf0c",
   "metadata": {},
   "outputs": [
    {
     "name": "stdout",
     "output_type": "stream",
     "text": [
      "s01.mat s02.mat s03.mat s04.mat s05.mat s06.mat s07.mat s08.mat s09.mat s10.mat s11.mat s12.mat s13.mat s14.mat s15.mat s16.mat s17.mat s18.mat s19.mat s20.mat s21.mat s22.mat s23.mat s24.mat s25.mat s26.mat s27.mat s28.mat s29.mat s30.mat s31.mat s32.mat "
     ]
    }
   ],
   "source": [
    "import os\n",
    "from scipy import io\n",
    "import numpy as np\n",
    "path = r'C:\\Users\\bumsung\\Downloads\\DEAP\\DEAP\\data_preprocessed_matlab/' # 경로는 저장 파일 경로\n",
    "file_list = os.listdir(path)\n",
    "\n",
    "for i in file_list:    # 확인\n",
    "    print(i, end=' ')"
   ]
  },
  {
   "cell_type": "code",
   "execution_count": 4,
   "id": "40227f83",
   "metadata": {},
   "outputs": [],
   "source": [
    "mat_file = io.loadmat(path+'s01.mat')"
   ]
  },
  {
   "cell_type": "code",
   "execution_count": 4,
   "id": "a30a4132",
   "metadata": {},
   "outputs": [
    {
     "data": {
      "text/plain": [
       "(40, 40, 8064)"
      ]
     },
     "execution_count": 4,
     "metadata": {},
     "output_type": "execute_result"
    }
   ],
   "source": [
    "mat_file['data'].shape"
   ]
  },
  {
   "cell_type": "code",
   "execution_count": 5,
   "id": "6443c95d",
   "metadata": {},
   "outputs": [
    {
     "data": {
      "text/plain": [
       "(40, 4)"
      ]
     },
     "execution_count": 5,
     "metadata": {},
     "output_type": "execute_result"
    }
   ],
   "source": [
    "mat_file['labels'].shape"
   ]
  },
  {
   "cell_type": "code",
   "execution_count": 18,
   "id": "2a5809b0",
   "metadata": {},
   "outputs": [
    {
     "data": {
      "text/plain": [
       "dict_keys(['__header__', '__version__', '__globals__', 'labels', 'data'])"
      ]
     },
     "execution_count": 18,
     "metadata": {},
     "output_type": "execute_result"
    }
   ],
   "source": [
    "mat_file.keys()"
   ]
  },
  {
   "cell_type": "code",
   "execution_count": 5,
   "id": "c4fcaceb",
   "metadata": {},
   "outputs": [
    {
     "name": "stdout",
     "output_type": "stream",
     "text": [
      "1 2 3 4 5 6 7 8 9 10 11 12 13 14 15 16 17 18 19 20 21 22 23 24 25 26 27 28 29 30 31 32 finish\n"
     ]
    }
   ],
   "source": [
    "k=0\n",
    "\n",
    "for i in file_list: \n",
    "    mat_file = io.loadmat(path+i)\n",
    "    data = mat_file['data']\n",
    "    labels = np.array(mat_file['labels'])\n",
    "    val = labels.T[0].round().astype(np.int8)\n",
    "    aro = labels.T[1].round().astype(np.int8)\n",
    "    \n",
    "    k+=1;\n",
    "    print(k, end=' ')\n",
    "    \n",
    "    if(i==\"s01.mat\"): \n",
    "        Data = data\n",
    "        VAL = val\n",
    "        ARO = aro\n",
    "        continue\n",
    "        \n",
    "    Data = np.concatenate((Data ,data),axis=0)   # 밑으로 쌓아서 하나로 만듬\n",
    "    VAL = np.concatenate((VAL ,val),axis=0)\n",
    "    ARO = np.concatenate((ARO ,aro),axis=0)\n",
    "\n",
    "print('finish')"
   ]
  },
  {
   "cell_type": "code",
   "execution_count": 14,
   "id": "5c087eb3",
   "metadata": {},
   "outputs": [
    {
     "name": "stderr",
     "output_type": "stream",
     "text": [
      "C:\\Users\\bumsung\\anaconda3\\lib\\site-packages\\seaborn\\_decorators.py:36: FutureWarning: Pass the following variable as a keyword arg: x. From version 0.12, the only valid positional argument will be `data`, and passing other arguments without an explicit keyword will result in an error or misinterpretation.\n",
      "  warnings.warn(\n"
     ]
    },
    {
     "data": {
      "text/plain": [
       "<AxesSubplot:ylabel='count'>"
      ]
     },
     "execution_count": 14,
     "metadata": {},
     "output_type": "execute_result"
    },
    {
     "data": {
      "image/png": "[encoded data removed]",
      "text/plain": [
       "<Figure size 640x480 with 1 Axes>"
      ]
     },
     "metadata": {},
     "output_type": "display_data"
    }
   ],
   "source": [
    "import seaborn as sns\n",
    "import matplotlib.pyplot as plt\n",
    "pd.DataFrame(VAL).describe()\n",
    "sns.countplot(VAL)"
   ]
  },
  {
   "cell_type": "code",
   "execution_count": 172,
   "id": "1ceb140d",
   "metadata": {},
   "outputs": [
    {
     "data": {
      "text/plain": [
       "(40, 40, 8064)"
      ]
     },
     "execution_count": 172,
     "metadata": {},
     "output_type": "execute_result"
    }
   ],
   "source": [
    "data.shape"
   ]
  },
  {
   "cell_type": "code",
   "execution_count": 173,
   "id": "9c09e9f9",
   "metadata": {},
   "outputs": [],
   "source": [
    "eeg_data = []\n",
    "peripheral_data = []\n",
    "\n",
    "for i in range(len(Data)):\n",
    "    for j in range (40): \n",
    "        if(j < 32):\n",
    "            eeg_data.append(Data[i][j])\n",
    "        else:\n",
    "            peripheral_data.append(Data[i][j])\n"
   ]
  },
  {
   "cell_type": "code",
   "execution_count": 176,
   "id": "d90871d6",
   "metadata": {},
   "outputs": [
    {
     "name": "stdout",
     "output_type": "stream",
     "text": [
      "(1280, 32, 8064)\n"
     ]
    }
   ],
   "source": [
    "eeg_data = np.reshape(eeg_data, (len(Data),32, 8064))\n",
    "print(eeg_data.shape)"
   ]
  },
  {
   "cell_type": "code",
   "execution_count": 177,
   "id": "635631e6",
   "metadata": {},
   "outputs": [
    {
     "data": {
      "text/plain": [
       "(1280,)"
      ]
     },
     "execution_count": 177,
     "metadata": {},
     "output_type": "execute_result"
    }
   ],
   "source": [
    "VAL.shape"
   ]
  },
  {
   "cell_type": "markdown",
   "id": "92f2df3b",
   "metadata": {},
   "source": [
    "data\t40 x 40 x 8064\tvideo/trial x channel x data\n",
    "\n",
    "labels\t40 x 4\tvideo/trial x label (valence, arousal, dominance, liking)\n"
   ]
  },
  {
   "cell_type": "code",
   "execution_count": 178,
   "id": "7518dbf7",
   "metadata": {},
   "outputs": [
    {
     "data": {
      "text/plain": [
       "(40,)"
      ]
     },
     "execution_count": 178,
     "metadata": {},
     "output_type": "execute_result"
    }
   ],
   "source": [
    "val.shape"
   ]
  },
  {
   "cell_type": "markdown",
   "id": "21e3e2f4",
   "metadata": {},
   "source": [
    "### data split"
   ]
  },
  {
   "cell_type": "code",
   "execution_count": 184,
   "id": "f3ad0012",
   "metadata": {},
   "outputs": [],
   "source": [
    "from sklearn.model_selection import train_test_split\n",
    "x_train, y_train, x_test, y_test = train_test_split(eeg_data, ARO, test_size=0.3)"
   ]
  },
  {
   "cell_type": "code",
   "execution_count": 186,
   "id": "d3e088c0",
   "metadata": {},
   "outputs": [
    {
     "name": "stdout",
     "output_type": "stream",
     "text": [
      "(896, 32, 8064)\n",
      "(896,)\n"
     ]
    }
   ],
   "source": [
    "print(x_train.shape)\n",
    "print(x_test.shape)"
   ]
  },
  {
   "cell_type": "code",
   "execution_count": 27,
   "id": "bd5e5d8c",
   "metadata": {},
   "outputs": [
    {
     "name": "stdout",
     "output_type": "stream",
     "text": [
      "Collecting tensorflowNote: you may need to restart the kernel to use updated packages.\n",
      "\n",
      "  Downloading tensorflow-2.11.0-cp39-cp39-win_amd64.whl (1.9 kB)\n",
      "Collecting tensorflow-intel==2.11.0\n",
      "  Downloading tensorflow_intel-2.11.0-cp39-cp39-win_amd64.whl (266.3 MB)\n",
      "     -------------------------------------- 266.3/266.3 MB 5.8 MB/s eta 0:00:00\n",
      "Collecting termcolor>=1.1.0\n",
      "  Downloading termcolor-2.1.1-py3-none-any.whl (6.2 kB)\n",
      "Collecting opt-einsum>=2.3.2\n",
      "  Downloading opt_einsum-3.3.0-py3-none-any.whl (65 kB)\n",
      "     ---------------------------------------- 65.5/65.5 kB ? eta 0:00:00\n",
      "Collecting tensorflow-io-gcs-filesystem>=0.23.1\n",
      "  Downloading tensorflow_io_gcs_filesystem-0.29.0-cp39-cp39-win_amd64.whl (1.5 MB)\n",
      "     ---------------------------------------- 1.5/1.5 MB 11.8 MB/s eta 0:00:00\n",
      "Collecting keras<2.12,>=2.11.0\n",
      "  Downloading keras-2.11.0-py2.py3-none-any.whl (1.7 MB)\n",
      "     ---------------------------------------- 1.7/1.7 MB 10.7 MB/s eta 0:00:00\n",
      "Requirement already satisfied: setuptools in c:\\users\\bumsung\\anaconda3\\lib\\site-packages (from tensorflow-intel==2.11.0->tensorflow) (63.4.1)\n",
      "Collecting protobuf<3.20,>=3.9.2\n",
      "  Downloading protobuf-3.19.6-cp39-cp39-win_amd64.whl (895 kB)\n",
      "     ------------------------------------- 895.9/895.9 kB 11.2 MB/s eta 0:00:00\n",
      "Requirement already satisfied: h5py>=2.9.0 in c:\\users\\bumsung\\anaconda3\\lib\\site-packages (from tensorflow-intel==2.11.0->tensorflow) (3.7.0)\n",
      "Collecting flatbuffers>=2.0\n",
      "  Downloading flatbuffers-22.12.6-py2.py3-none-any.whl (26 kB)\n",
      "Collecting astunparse>=1.6.0\n",
      "  Downloading astunparse-1.6.3-py2.py3-none-any.whl (12 kB)\n",
      "Collecting libclang>=13.0.0\n",
      "  Downloading libclang-14.0.6-py2.py3-none-win_amd64.whl (14.2 MB)\n",
      "     --------------------------------------- 14.2/14.2 MB 11.1 MB/s eta 0:00:00\n",
      "Requirement already satisfied: wrapt>=1.11.0 in c:\\users\\bumsung\\anaconda3\\lib\\site-packages (from tensorflow-intel==2.11.0->tensorflow) (1.14.1)\n",
      "Requirement already satisfied: six>=1.12.0 in c:\\users\\bumsung\\anaconda3\\lib\\site-packages (from tensorflow-intel==2.11.0->tensorflow) (1.16.0)\n",
      "Collecting gast<=0.4.0,>=0.2.1\n",
      "  Downloading gast-0.4.0-py3-none-any.whl (9.8 kB)\n",
      "Collecting tensorflow-estimator<2.12,>=2.11.0\n",
      "  Downloading tensorflow_estimator-2.11.0-py2.py3-none-any.whl (439 kB)\n",
      "     ------------------------------------- 439.2/439.2 kB 13.8 MB/s eta 0:00:00\n",
      "Requirement already satisfied: packaging in c:\\users\\bumsung\\anaconda3\\lib\\site-packages (from tensorflow-intel==2.11.0->tensorflow) (21.3)\n",
      "Collecting google-pasta>=0.1.1\n",
      "  Downloading google_pasta-0.2.0-py3-none-any.whl (57 kB)\n",
      "     ---------------------------------------- 57.5/57.5 kB ? eta 0:00:00\n",
      "Requirement already satisfied: typing-extensions>=3.6.6 in c:\\users\\bumsung\\anaconda3\\lib\\site-packages (from tensorflow-intel==2.11.0->tensorflow) (4.3.0)\n",
      "Collecting tensorboard<2.12,>=2.11\n",
      "  Downloading tensorboard-2.11.0-py3-none-any.whl (6.0 MB)\n",
      "     ---------------------------------------- 6.0/6.0 MB 11.6 MB/s eta 0:00:00\n",
      "Collecting absl-py>=1.0.0\n",
      "  Downloading absl_py-1.3.0-py3-none-any.whl (124 kB)\n",
      "     -------------------------------------- 124.6/124.6 kB 7.1 MB/s eta 0:00:00\n",
      "Collecting grpcio<2.0,>=1.24.3\n",
      "  Downloading grpcio-1.51.1-cp39-cp39-win_amd64.whl (3.7 MB)\n",
      "     ---------------------------------------- 3.7/3.7 MB 11.4 MB/s eta 0:00:00\n",
      "Requirement already satisfied: numpy>=1.20 in c:\\users\\bumsung\\anaconda3\\lib\\site-packages (from tensorflow-intel==2.11.0->tensorflow) (1.21.5)\n",
      "Requirement already satisfied: wheel<1.0,>=0.23.0 in c:\\users\\bumsung\\anaconda3\\lib\\site-packages (from astunparse>=1.6.0->tensorflow-intel==2.11.0->tensorflow) (0.37.1)\n",
      "Collecting google-auth<3,>=1.6.3\n",
      "  Downloading google_auth-2.15.0-py2.py3-none-any.whl (177 kB)\n",
      "     ------------------------------------- 177.0/177.0 kB 11.1 MB/s eta 0:00:00\n",
      "Requirement already satisfied: requests<3,>=2.21.0 in c:\\users\\bumsung\\anaconda3\\lib\\site-packages (from tensorboard<2.12,>=2.11->tensorflow-intel==2.11.0->tensorflow) (2.28.1)\n",
      "Requirement already satisfied: werkzeug>=1.0.1 in c:\\users\\bumsung\\anaconda3\\lib\\site-packages (from tensorboard<2.12,>=2.11->tensorflow-intel==2.11.0->tensorflow) (2.0.3)\n",
      "Collecting tensorboard-data-server<0.7.0,>=0.6.0\n",
      "  Downloading tensorboard_data_server-0.6.1-py3-none-any.whl (2.4 kB)\n",
      "Collecting google-auth-oauthlib<0.5,>=0.4.1\n",
      "  Downloading google_auth_oauthlib-0.4.6-py2.py3-none-any.whl (18 kB)\n",
      "Collecting tensorboard-plugin-wit>=1.6.0\n",
      "  Downloading tensorboard_plugin_wit-1.8.1-py3-none-any.whl (781 kB)\n",
      "     ------------------------------------- 781.3/781.3 kB 12.4 MB/s eta 0:00:00\n",
      "Requirement already satisfied: markdown>=2.6.8 in c:\\users\\bumsung\\anaconda3\\lib\\site-packages (from tensorboard<2.12,>=2.11->tensorflow-intel==2.11.0->tensorflow) (3.3.4)\n",
      "Requirement already satisfied: pyparsing!=3.0.5,>=2.0.2 in c:\\users\\bumsung\\anaconda3\\lib\\site-packages (from packaging->tensorflow-intel==2.11.0->tensorflow) (3.0.9)\n",
      "Collecting cachetools<6.0,>=2.0.0\n",
      "  Downloading cachetools-5.2.0-py3-none-any.whl (9.3 kB)\n",
      "Requirement already satisfied: pyasn1-modules>=0.2.1 in c:\\users\\bumsung\\anaconda3\\lib\\site-packages (from google-auth<3,>=1.6.3->tensorboard<2.12,>=2.11->tensorflow-intel==2.11.0->tensorflow) (0.2.8)\n",
      "Collecting rsa<5,>=3.1.4\n",
      "  Downloading rsa-4.9-py3-none-any.whl (34 kB)\n",
      "Collecting requests-oauthlib>=0.7.0\n",
      "  Downloading requests_oauthlib-1.3.1-py2.py3-none-any.whl (23 kB)\n",
      "Requirement already satisfied: charset-normalizer<3,>=2 in c:\\users\\bumsung\\anaconda3\\lib\\site-packages (from requests<3,>=2.21.0->tensorboard<2.12,>=2.11->tensorflow-intel==2.11.0->tensorflow) (2.0.4)\n",
      "Requirement already satisfied: certifi>=2017.4.17 in c:\\users\\bumsung\\anaconda3\\lib\\site-packages (from requests<3,>=2.21.0->tensorboard<2.12,>=2.11->tensorflow-intel==2.11.0->tensorflow) (2022.9.14)\n",
      "Requirement already satisfied: urllib3<1.27,>=1.21.1 in c:\\users\\bumsung\\anaconda3\\lib\\site-packages (from requests<3,>=2.21.0->tensorboard<2.12,>=2.11->tensorflow-intel==2.11.0->tensorflow) (1.26.11)\n",
      "Requirement already satisfied: idna<4,>=2.5 in c:\\users\\bumsung\\anaconda3\\lib\\site-packages (from requests<3,>=2.21.0->tensorboard<2.12,>=2.11->tensorflow-intel==2.11.0->tensorflow) (3.3)\n",
      "Requirement already satisfied: pyasn1<0.5.0,>=0.4.6 in c:\\users\\bumsung\\anaconda3\\lib\\site-packages (from pyasn1-modules>=0.2.1->google-auth<3,>=1.6.3->tensorboard<2.12,>=2.11->tensorflow-intel==2.11.0->tensorflow) (0.4.8)\n",
      "Collecting oauthlib>=3.0.0\n",
      "  Downloading oauthlib-3.2.2-py3-none-any.whl (151 kB)\n",
      "     -------------------------------------- 151.7/151.7 kB 8.8 MB/s eta 0:00:00\n",
      "Installing collected packages: tensorboard-plugin-wit, libclang, flatbuffers, termcolor, tensorflow-io-gcs-filesystem, tensorflow-estimator, tensorboard-data-server, rsa, protobuf, opt-einsum, oauthlib, keras, grpcio, google-pasta, gast, cachetools, astunparse, absl-py, requests-oauthlib, google-auth, google-auth-oauthlib, tensorboard, tensorflow-intel, tensorflow\n",
      "Successfully installed absl-py-1.3.0 astunparse-1.6.3 cachetools-5.2.0 flatbuffers-22.12.6 gast-0.4.0 google-auth-2.15.0 google-auth-oauthlib-0.4.6 google-pasta-0.2.0 grpcio-1.51.1 keras-2.11.0 libclang-14.0.6 oauthlib-3.2.2 opt-einsum-3.3.0 protobuf-3.19.6 requests-oauthlib-1.3.1 rsa-4.9 tensorboard-2.11.0 tensorboard-data-server-0.6.1 tensorboard-plugin-wit-1.8.1 tensorflow-2.11.0 tensorflow-estimator-2.11.0 tensorflow-intel-2.11.0 tensorflow-io-gcs-filesystem-0.29.0 termcolor-2.1.1\n"
     ]
    }
   ],
   "source": [
    "pip install tensorflow"
   ]
  },
  {
   "cell_type": "code",
   "execution_count": 15,
   "id": "7228fe33",
   "metadata": {},
   "outputs": [
    {
     "name": "stdout",
     "output_type": "stream",
     "text": [
      "Collecting tf_slim\n",
      "  Downloading tf_slim-1.1.0-py2.py3-none-any.whl (352 kB)\n",
      "     ------------------------------------- 352.1/352.1 kB 11.0 MB/s eta 0:00:00\n",
      "Requirement already satisfied: absl-py>=0.2.2 in c:\\users\\bumsung\\anaconda3\\lib\\site-packages (from tf_slim) (1.3.0)\n",
      "Installing collected packages: tf_slim\n",
      "Successfully installed tf_slim-1.1.0\n",
      "Note: you may need to restart the kernel to use updated packages.\n"
     ]
    }
   ],
   "source": [
    "pip install --upgrade tf_slim"
   ]
  },
  {
   "cell_type": "code",
   "execution_count": 8,
   "id": "9acd80c1",
   "metadata": {},
   "outputs": [],
   "source": [
    "import tensorflow as tf"
   ]
  },
  {
   "cell_type": "code",
   "execution_count": 21,
   "id": "2e461bda",
   "metadata": {
    "scrolled": true
   },
   "outputs": [],
   "source": [
    "from keras.models import Sequential\n",
    "import keras.layers as nn\n",
    "from keras.layers import Input, Dense\n",
    "from keras.models import Model"
   ]
  },
  {
   "cell_type": "code",
   "execution_count": 142,
   "id": "5ba67b4b",
   "metadata": {},
   "outputs": [
    {
     "name": "stdout",
     "output_type": "stream",
     "text": [
      "<class 'numpy.ndarray'>\n"
     ]
    }
   ],
   "source": [
    "channel_size = 32\n",
    "time_size = 8064\n",
    "depth_size = 1\n",
    "cls_num = 9;\n",
    "lrelu = tf.nn.leaky_relu\n",
    "\n",
    "data_source = 0\n",
    "data_target = 0\n",
    " \n",
    "\n",
    "print(type(label_source[0]))\n",
    "\n",
    "w_adv = 0 \n",
    "w_t = 0 \n",
    "w_s = 0\n",
    "w_c = 0"
   ]
  },
  {
   "cell_type": "markdown",
   "id": "8afcd529",
   "metadata": {},
   "source": [
    "레퍼런스\n",
    "\n",
    "- https://codeonweb.com/entry/6767c929-83dc-458e-a884-8631d8b8a46e\n",
    "- https://stackoverflow.com/questions/51680818/keras-custom-loss-as-a-function-of-multiple-outputs"
   ]
  },
  {
   "cell_type": "code",
   "execution_count": 161,
   "id": "3e160fcf",
   "metadata": {},
   "outputs": [],
   "source": [
    "#main model\n",
    "inputs = Input(shape=(channel_size,time_size,1))\n",
    "inputs_s = Input(shape=(channel_size,time_size,1))\n",
    "\n",
    "conv1 = nn.Conv2D(filters=30, kernel_size=(1,25))\n",
    "conv2 = nn.Conv2D(filters=30, kernel_size=(channel_size,1))\n",
    "flatten = nn.Flatten()\n",
    "full = nn.Dense(64, activation=lrelu)\n",
    "full2 = nn.Dense(16, activation=lrelu)\n",
    "cls = nn.Dense(cls_num, activation=None)\n",
    "soft = nn.Softmax()\n",
    "\n",
    "#discriminator\n",
    "discriminator = Sequential([\n",
    "    nn.Dense(64, activation=lrelu),\n",
    "    nn.Dense(32, activation=lrelu),\n",
    "    nn.Dense(16, activation=lrelu),\n",
    "    nn.Dense(1, activation='sigmoid')\n",
    "])\n",
    "\n",
    "######\n",
    "\n",
    "x = conv1(inputs)\n",
    "x_s = conv1(inputs_s)\n",
    "\n",
    "x = conv2(x)\n",
    "x_s = conv2(x_s)\n",
    "\n",
    "fc = flatten(x)\n",
    "fc_s = flatten(x_s)\n",
    "\n",
    "feat = full(fc)\n",
    "feat_s = full(fc_s)\n",
    "\n",
    "### discriminator\n",
    "dx = discriminator(feat)\n",
    "dx_s = discriminator(feat_s)\n",
    "###\n",
    "\n",
    "\n",
    "net2 = full2(feat)\n",
    "net2_s = full2(feat_s)\n",
    "\n",
    "net = cls(net2)\n",
    "net_s = cls(net2_s)\n",
    "\n",
    "pred = soft(net)\n",
    "pred_s = soft(net_s)\n",
    "\n",
    "### label input\n",
    "label = Input((9,))\n",
    "label_s = Input((9,)) \n",
    "\n",
    "model = Model(inputs=[inputs, inputs_s, label_source, label_target], outputs=[pred, dx])\n",
    "\n",
    "#x =  nn.Conv2D(filters=30, kernel_size=(channel_size,1))(x)\n",
    "#x =  nn.AveragePooling2D(pool_size=(1,75), strides=(1,15))(x)\n",
    "#fc = nn.Flatten()(x)\n",
    "#feat = nn.Dense(64, activation=lrelu)(fc)\n",
    "#net2 = nn.Dense(16, activation=lrelu)(feat)\n",
    "#net = nn.Dense(cls_num, activation=None)(net2)\n",
    "#pred = nn.Softmax()(net)\n",
    "\n",
    "#model = Model(inputs=inputs, outputs=pred)\n"
   ]
  },
  {
   "cell_type": "code",
   "execution_count": 162,
   "id": "62b1c7b1",
   "metadata": {},
   "outputs": [],
   "source": [
    "#loss _ disc\n",
    "d_loss = tf.reduce_mean(tf.square(dx - 1)+tf.square(dx_s))/2\n",
    "\n",
    "#loss\n",
    "g_loss_adv = tf.reduce_mean(tf.square(dx-1))/2\n",
    "g_loss_ce_t = tf.losses.categorical_crossentropy(pred, label)\n",
    "g_loss_ce_s = tf.losses.categorical_crossentropy(pred_s, label_s)\n",
    "\n",
    "# g_loss_center 나중에...\n",
    "g_loss_center = 0\n",
    "\n",
    "\n",
    "g_loss = w_adv*d_loss + w_t * g_loss_ce_t + w_s*g_loss_ce_s + w_c*g_loss_center\n"
   ]
  },
  {
   "cell_type": "code",
   "execution_count": 155,
   "id": "d20ff9f1",
   "metadata": {},
   "outputs": [],
   "source": [
    "model.compile(optimizer='adam',\n",
    "             loss={'pred' : g_loss, 'dx': d_loss}) #역전파 반영 멈추기?"
   ]
  },
  {
   "cell_type": "code",
   "execution_count": null,
   "id": "fc01ea8e",
   "metadata": {},
   "outputs": [],
   "source": [
    "model.fit({'inputs': data_target, 'inputs_s':data_source\n",
    "          'label' : label_target, 'label_s': label_source},\n",
    "         epochs=50)"
   ]
  }
 ],
 "metadata": {
  "kernelspec": {
   "display_name": "Python 3 (ipykernel)",
   "language": "python",
   "name": "python3"
  },
  "language_info": {
   "codemirror_mode": {
    "name": "ipython",
    "version": 3
   },
   "file_extension": ".py",
   "mimetype": "text/x-python",
   "name": "python",
   "nbconvert_exporter": "python",
   "pygments_lexer": "ipython3",
   "version": "3.9.13"
  }
 },
 "nbformat": 4,
 "nbformat_minor": 5
}
